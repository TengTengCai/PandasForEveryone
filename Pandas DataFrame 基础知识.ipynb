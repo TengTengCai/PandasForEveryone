{
 "cells": [
  {
   "cell_type": "markdown",
   "id": "motivated-squad",
   "metadata": {},
   "source": [
    "## 1.1 简介\n",
    "\n",
    "    Pandas 是一个用于数据分析的开源Python库。它让Python能处理电子表格等数据，提供了数据快速价值、操作、对齐与合并等功能。\n",
    "目标：\n",
    "- 加载带分隔符带简单数据文件\n",
    "- 计算加载带行数和列数\n",
    "- 确定加载哪类数据\n",
    "- 通过获取行和列带子集来查看数据带不同部分"
   ]
  },
  {
   "cell_type": "markdown",
   "id": "computational-client",
   "metadata": {},
   "source": [
    "## 1.2 加载数据集\n",
    "    当给定一个数据集时，首先要加载它并查看其结构和内容。"
   ]
  },
  {
   "cell_type": "code",
   "execution_count": 1,
   "id": "dried-afternoon",
   "metadata": {},
   "outputs": [
    {
     "name": "stdout",
     "output_type": "stream",
     "text": [
      "       country continent  year  lifeExp       pop   gdpPercap\n",
      "0  Afghanistan      Asia  1952   28.801   8425333  779.445314\n",
      "1  Afghanistan      Asia  1957   30.332   9240934  820.853030\n",
      "2  Afghanistan      Asia  1962   31.997  10267083  853.100710\n",
      "3  Afghanistan      Asia  1967   34.020  11537966  836.197138\n",
      "4  Afghanistan      Asia  1972   36.088  13079460  739.981106\n"
     ]
    }
   ],
   "source": [
    "import pandas\n",
    "# 默认情况下，read_csv 函数会读取逗号分隔文件\n",
    "# Gapminder数据使用制表符分隔\n",
    "# 可已吧sep参赛设置为\\t, 显示指明使用制表符分隔\n",
    "df = pandas.read_csv(\"./data/gapminder.tsv\", sep=\"\\t\")\n",
    "# 调用head()方法，只显示前5行数据\n",
    "print(df.head())"
   ]
  },
  {
   "cell_type": "markdown",
   "id": "advised-synthetic",
   "metadata": {},
   "source": [
    "调用Pandas的函数时，往往需要为pandas起各别名pd，下面的代码与前面的相同。"
   ]
  },
  {
   "cell_type": "code",
   "execution_count": 2,
   "id": "likely-flesh",
   "metadata": {},
   "outputs": [
    {
     "name": "stdout",
     "output_type": "stream",
     "text": [
      "<class 'pandas.core.frame.DataFrame'>\n"
     ]
    }
   ],
   "source": [
    "import pandas as pd\n",
    "df = pandas.read_csv(\"./data/gapminder.tsv\", sep=\"\\t\")\n",
    "print(type(df))"
   ]
  },
  {
   "cell_type": "code",
   "execution_count": 3,
   "id": "graduate-monster",
   "metadata": {},
   "outputs": [
    {
     "name": "stdout",
     "output_type": "stream",
     "text": [
      "(1704, 6)\n"
     ]
    }
   ],
   "source": [
    "# 获取行数和列数\n",
    "print(df.shape)"
   ]
  },
  {
   "cell_type": "code",
   "execution_count": 4,
   "id": "noble-ghost",
   "metadata": {},
   "outputs": [
    {
     "ename": "TypeError",
     "evalue": "'tuple' object is not callable",
     "output_type": "error",
     "traceback": [
      "\u001b[0;31m---------------------------------------------------------------------------\u001b[0m",
      "\u001b[0;31mTypeError\u001b[0m                                 Traceback (most recent call last)",
      "\u001b[0;32m<ipython-input-4-afc44f09bc98>\u001b[0m in \u001b[0;36m<module>\u001b[0;34m\u001b[0m\n\u001b[1;32m      1\u001b[0m \u001b[0;31m# shape是属性，而非方法\u001b[0m\u001b[0;34m\u001b[0m\u001b[0;34m\u001b[0m\u001b[0;34m\u001b[0m\u001b[0m\n\u001b[1;32m      2\u001b[0m \u001b[0;31m# 如下用法会引发错误\u001b[0m\u001b[0;34m\u001b[0m\u001b[0;34m\u001b[0m\u001b[0;34m\u001b[0m\u001b[0m\n\u001b[0;32m----> 3\u001b[0;31m \u001b[0mprint\u001b[0m\u001b[0;34m(\u001b[0m\u001b[0mdf\u001b[0m\u001b[0;34m.\u001b[0m\u001b[0mshape\u001b[0m\u001b[0;34m(\u001b[0m\u001b[0;34m)\u001b[0m\u001b[0;34m)\u001b[0m\u001b[0;34m\u001b[0m\u001b[0;34m\u001b[0m\u001b[0m\n\u001b[0m",
      "\u001b[0;31mTypeError\u001b[0m: 'tuple' object is not callable"
     ]
    }
   ],
   "source": [
    "# shape是属性，而非方法\n",
    "# 如下用法会引发错误\n",
    "print(df.shape())"
   ]
  },
  {
   "cell_type": "code",
   "execution_count": 5,
   "id": "irish-canberra",
   "metadata": {},
   "outputs": [
    {
     "name": "stdout",
     "output_type": "stream",
     "text": [
      "Index(['country', 'continent', 'year', 'lifeExp', 'pop', 'gdpPercap'], dtype='object')\n",
      "<class 'str'>\n"
     ]
    }
   ],
   "source": [
    "# 获取列名\n",
    "print(df.columns)\n",
    "# 列名的类型是字符串\n",
    "print(type(df.columns[0]))"
   ]
  },
  {
   "cell_type": "markdown",
   "id": "explicit-insurance",
   "metadata": {},
   "source": [
    "Pandas的DataFrame对象和其他语言中的DataFrame对象相似，每列的类型必须相同，而每行可以包含混合类型。当前例子中，可以使用DataFrame的dtypes属性和info方法来验证。"
   ]
  },
  {
   "cell_type": "code",
   "execution_count": 6,
   "id": "mounted-joint",
   "metadata": {},
   "outputs": [
    {
     "name": "stdout",
     "output_type": "stream",
     "text": [
      "country       object\n",
      "continent     object\n",
      "year           int64\n",
      "lifeExp      float64\n",
      "pop            int64\n",
      "gdpPercap    float64\n",
      "dtype: object\n",
      "<class 'pandas.core.frame.DataFrame'>\n",
      "RangeIndex: 1704 entries, 0 to 1703\n",
      "Data columns (total 6 columns):\n",
      " #   Column     Non-Null Count  Dtype  \n",
      "---  ------     --------------  -----  \n",
      " 0   country    1704 non-null   object \n",
      " 1   continent  1704 non-null   object \n",
      " 2   year       1704 non-null   int64  \n",
      " 3   lifeExp    1704 non-null   float64\n",
      " 4   pop        1704 non-null   int64  \n",
      " 5   gdpPercap  1704 non-null   float64\n",
      "dtypes: float64(2), int64(2), object(2)\n",
      "memory usage: 80.0+ KB\n",
      "None\n"
     ]
    }
   ],
   "source": [
    "# 每列的dtype\n",
    "print(df.dtypes)\n",
    "# 获取更多数据信息\n",
    "print(df.info())"
   ]
  },
  {
   "cell_type": "markdown",
   "id": "solar-found",
   "metadata": {},
   "source": [
    "### Pandas类型和Python类型\n",
    "\n",
    "|Pandas类型|Python类型|说明|\n",
    "|---------|---------|----|\n",
    "|object|string|最常用的数据类型|\n",
    "|int64|int|整型|\n",
    "|float64|float|带小数的数字|\n",
    "|datetime64|datetime|Python标准库包含datetime，但默认不加载，需要导入才能使用|"
   ]
  },
  {
   "cell_type": "markdown",
   "id": "romance-casting",
   "metadata": {},
   "source": [
    "## 1.3 查看列、行和单元格\n",
    "    前面介绍列如何加载简单的数据文件，下面查看其内容。可以把DateFramed的内容全部输出。但当今数据规模一般都很大，全部输出不现实，而且很有可能难以理解。查看数据都最佳方法是分别查看数据的各个子集。前面讲过，可以使用DateFrame的head方法查看数据的前5行。这对于查看数据是否正确加载，了解每列、列名及其内容非常有用。不过，有时只需查看数据的特定行、列或值。"
   ]
  },
  {
   "cell_type": "markdown",
   "id": "ruled-emphasis",
   "metadata": {},
   "source": [
    "### 1.3.1 获取列子集\n",
    "    如果想查看数据中的多列，可以通过名称、位置或范围来指定。"
   ]
  },
  {
   "cell_type": "markdown",
   "id": "packed-mexico",
   "metadata": {},
   "source": [
    "1. 根据名称获取列子集"
   ]
  },
  {
   "cell_type": "code",
   "execution_count": 10,
   "id": "clinical-westminster",
   "metadata": {},
   "outputs": [
    {
     "name": "stdout",
     "output_type": "stream",
     "text": [
      "       country continent  year  lifeExp       pop   gdpPercap\n",
      "0  Afghanistan      Asia  1952   28.801   8425333  779.445314\n",
      "1  Afghanistan      Asia  1957   30.332   9240934  820.853030\n",
      "2  Afghanistan      Asia  1962   31.997  10267083  853.100710\n",
      "3  Afghanistan      Asia  1967   34.020  11537966  836.197138\n",
      "4  Afghanistan      Asia  1972   36.088  13079460  739.981106\n",
      "0    Afghanistan\n",
      "1    Afghanistan\n",
      "2    Afghanistan\n",
      "3    Afghanistan\n",
      "4    Afghanistan\n",
      "Name: country, dtype: object\n"
     ]
    }
   ],
   "source": [
    "# 只获取country列，并将其保存到一个变量中\n",
    "print(df.head())\n",
    "country_df = df['country']"
   ]
  },
  {
   "cell_type": "code",
   "execution_count": 11,
   "id": "developed-bacon",
   "metadata": {},
   "outputs": [
    {
     "name": "stdout",
     "output_type": "stream",
     "text": [
      "0    Afghanistan\n",
      "1    Afghanistan\n",
      "2    Afghanistan\n",
      "3    Afghanistan\n",
      "4    Afghanistan\n",
      "Name: country, dtype: object\n"
     ]
    }
   ],
   "source": [
    "# 显示前5行\n",
    "print(country_df.head())"
   ]
  },
  {
   "cell_type": "code",
   "execution_count": 12,
   "id": "decimal-joining",
   "metadata": {},
   "outputs": [
    {
     "name": "stdout",
     "output_type": "stream",
     "text": [
      "1699    Zimbabwe\n",
      "1700    Zimbabwe\n",
      "1701    Zimbabwe\n",
      "1702    Zimbabwe\n",
      "1703    Zimbabwe\n",
      "Name: country, dtype: object\n"
     ]
    }
   ],
   "source": [
    "# 显示后5行\n",
    "print(country_df.tail())"
   ]
  },
  {
   "cell_type": "markdown",
   "id": "technological-recipient",
   "metadata": {},
   "source": [
    "通过列名指定多列，需要向方括内传入一个Python列表。"
   ]
  },
  {
   "cell_type": "code",
   "execution_count": 14,
   "id": "close-mounting",
   "metadata": {},
   "outputs": [
    {
     "name": "stdout",
     "output_type": "stream",
     "text": [
      "       country continent  year\n",
      "0  Afghanistan      Asia  1952\n",
      "1  Afghanistan      Asia  1957\n",
      "2  Afghanistan      Asia  1962\n",
      "3  Afghanistan      Asia  1967\n",
      "4  Afghanistan      Asia  1972\n"
     ]
    }
   ],
   "source": [
    "# 查看country、continent、year列\n",
    "subset = df[['country', 'continent', 'year']]\n",
    "print(subset.head())"
   ]
  },
  {
   "cell_type": "code",
   "execution_count": 15,
   "id": "monetary-child",
   "metadata": {},
   "outputs": [
    {
     "name": "stdout",
     "output_type": "stream",
     "text": [
      "       country continent  year\n",
      "1699  Zimbabwe    Africa  1987\n",
      "1700  Zimbabwe    Africa  1992\n",
      "1701  Zimbabwe    Africa  1997\n",
      "1702  Zimbabwe    Africa  2002\n",
      "1703  Zimbabwe    Africa  2007\n"
     ]
    }
   ],
   "source": [
    "print(subset.tail())"
   ]
  },
  {
   "cell_type": "markdown",
   "id": "inappropriate-province",
   "metadata": {},
   "source": [
    "### 1.3.2 获取行子集\n",
    "    获取行子集有多种方法，比如通过行名或行索引。\n",
    "|获取行子集的方法|说明|\n",
    "|----|----|\n",
    "|loc|基于索引标签获取行子集（行名）|\n",
    "|iloc|基于行索引获取行子集（行号）|\n",
    "|ix（Pandas v0.20不支持）|基于索引标签或行索引获取行子集|"
   ]
  },
  {
   "cell_type": "markdown",
   "id": "vanilla-stuff",
   "metadata": {},
   "source": [
    "1. 通过行索引标签获取行子集：loc"
   ]
  },
  {
   "cell_type": "code",
   "execution_count": 16,
   "id": "indian-tournament",
   "metadata": {},
   "outputs": [
    {
     "name": "stdout",
     "output_type": "stream",
     "text": [
      "       country continent  year  lifeExp       pop   gdpPercap\n",
      "0  Afghanistan      Asia  1952   28.801   8425333  779.445314\n",
      "1  Afghanistan      Asia  1957   30.332   9240934  820.853030\n",
      "2  Afghanistan      Asia  1962   31.997  10267083  853.100710\n",
      "3  Afghanistan      Asia  1967   34.020  11537966  836.197138\n",
      "4  Afghanistan      Asia  1972   36.088  13079460  739.981106\n"
     ]
    }
   ],
   "source": [
    "print(df.head())"
   ]
  },
  {
   "cell_type": "code",
   "execution_count": null,
   "id": "first-cradle",
   "metadata": {},
   "outputs": [],
   "source": []
  }
 ],
 "metadata": {
  "kernelspec": {
   "display_name": "Python 3",
   "language": "python",
   "name": "python3"
  },
  "language_info": {
   "codemirror_mode": {
    "name": "ipython",
    "version": 3
   },
   "file_extension": ".py",
   "mimetype": "text/x-python",
   "name": "python",
   "nbconvert_exporter": "python",
   "pygments_lexer": "ipython3",
   "version": "3.9.1"
  }
 },
 "nbformat": 4,
 "nbformat_minor": 5
}
