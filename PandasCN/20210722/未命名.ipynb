{
 "cells": [
  {
   "cell_type": "code",
   "execution_count": 1,
   "id": "8835b85c",
   "metadata": {},
   "outputs": [],
   "source": [
    "import pandas as pd"
   ]
  },
  {
   "cell_type": "code",
   "execution_count": 2,
   "id": "32dc88d9",
   "metadata": {},
   "outputs": [],
   "source": [
    "df = pd.read_csv(\"./fiveG_in.csv\", index_col=0)\n"
   ]
  },
  {
   "cell_type": "code",
   "execution_count": 21,
   "id": "20991365",
   "metadata": {},
   "outputs": [],
   "source": [
    "df[\"dateTime\"] = df[\"dateTime\"].astype(str) "
   ]
  },
  {
   "cell_type": "code",
   "execution_count": 22,
   "id": "49aa4517",
   "metadata": {},
   "outputs": [
    {
     "data": {
      "text/html": [
       "<div>\n",
       "<style scoped>\n",
       "    .dataframe tbody tr th:only-of-type {\n",
       "        vertical-align: middle;\n",
       "    }\n",
       "\n",
       "    .dataframe tbody tr th {\n",
       "        vertical-align: top;\n",
       "    }\n",
       "\n",
       "    .dataframe thead th {\n",
       "        text-align: right;\n",
       "    }\n",
       "</style>\n",
       "<table border=\"1\" class=\"dataframe\">\n",
       "  <thead>\n",
       "    <tr style=\"text-align: right;\">\n",
       "      <th></th>\n",
       "      <th>NEname</th>\n",
       "      <th>dateTime</th>\n",
       "      <th>UR.SuccInitReg</th>\n",
       "      <th>UR.AttInitReg</th>\n",
       "      <th>initRegRate</th>\n",
       "      <th>msg</th>\n",
       "    </tr>\n",
       "  </thead>\n",
       "  <tbody>\n",
       "    <tr>\n",
       "      <th>0</th>\n",
       "      <td>XNCDcqisbg1BZX</td>\n",
       "      <td>20210717130000</td>\n",
       "      <td>64937.0</td>\n",
       "      <td>64993.0</td>\n",
       "      <td>99.91</td>\n",
       "      <td>XNCDcqisbg1BZX  99.91%</td>\n",
       "    </tr>\n",
       "    <tr>\n",
       "      <th>1</th>\n",
       "      <td>XBXAcqisbg2BZX</td>\n",
       "      <td>20210717130000</td>\n",
       "      <td>65038.0</td>\n",
       "      <td>65099.0</td>\n",
       "      <td>99.91</td>\n",
       "      <td>XBXAcqisbg2BZX  99.91%</td>\n",
       "    </tr>\n",
       "    <tr>\n",
       "      <th>2</th>\n",
       "      <td>XNCDcqisbg1BZX</td>\n",
       "      <td>20210718130000</td>\n",
       "      <td>65271.0</td>\n",
       "      <td>65332.0</td>\n",
       "      <td>99.91</td>\n",
       "      <td>XNCDcqisbg1BZX  99.91%</td>\n",
       "    </tr>\n",
       "    <tr>\n",
       "      <th>3</th>\n",
       "      <td>XBXAcqisbg2BZX</td>\n",
       "      <td>20210718130000</td>\n",
       "      <td>64747.0</td>\n",
       "      <td>64804.0</td>\n",
       "      <td>99.91</td>\n",
       "      <td>XBXAcqisbg2BZX  99.91%</td>\n",
       "    </tr>\n",
       "    <tr>\n",
       "      <th>4</th>\n",
       "      <td>XNCDcqisbg1BZX</td>\n",
       "      <td>20210719130000</td>\n",
       "      <td>60641.0</td>\n",
       "      <td>60700.0</td>\n",
       "      <td>99.90</td>\n",
       "      <td>XNCDcqisbg1BZX  99.9%</td>\n",
       "    </tr>\n",
       "    <tr>\n",
       "      <th>5</th>\n",
       "      <td>XBXAcqisbg2BZX</td>\n",
       "      <td>20210719130000</td>\n",
       "      <td>61047.0</td>\n",
       "      <td>61110.0</td>\n",
       "      <td>99.90</td>\n",
       "      <td>XBXAcqisbg2BZX  99.9%</td>\n",
       "    </tr>\n",
       "    <tr>\n",
       "      <th>6</th>\n",
       "      <td>XNCDcqisbg1BZX</td>\n",
       "      <td>20210720130000</td>\n",
       "      <td>61078.0</td>\n",
       "      <td>61141.0</td>\n",
       "      <td>99.90</td>\n",
       "      <td>XNCDcqisbg1BZX  99.9%</td>\n",
       "    </tr>\n",
       "    <tr>\n",
       "      <th>7</th>\n",
       "      <td>XBXAcqisbg2BZX</td>\n",
       "      <td>20210720130000</td>\n",
       "      <td>60385.0</td>\n",
       "      <td>60454.0</td>\n",
       "      <td>99.89</td>\n",
       "      <td>XBXAcqisbg2BZX  99.89%</td>\n",
       "    </tr>\n",
       "  </tbody>\n",
       "</table>\n",
       "</div>"
      ],
      "text/plain": [
       "           NEname        dateTime  UR.SuccInitReg  UR.AttInitReg  initRegRate  \\\n",
       "0  XNCDcqisbg1BZX  20210717130000         64937.0        64993.0        99.91   \n",
       "1  XBXAcqisbg2BZX  20210717130000         65038.0        65099.0        99.91   \n",
       "2  XNCDcqisbg1BZX  20210718130000         65271.0        65332.0        99.91   \n",
       "3  XBXAcqisbg2BZX  20210718130000         64747.0        64804.0        99.91   \n",
       "4  XNCDcqisbg1BZX  20210719130000         60641.0        60700.0        99.90   \n",
       "5  XBXAcqisbg2BZX  20210719130000         61047.0        61110.0        99.90   \n",
       "6  XNCDcqisbg1BZX  20210720130000         61078.0        61141.0        99.90   \n",
       "7  XBXAcqisbg2BZX  20210720130000         60385.0        60454.0        99.89   \n",
       "\n",
       "                      msg  \n",
       "0  XNCDcqisbg1BZX  99.91%  \n",
       "1  XBXAcqisbg2BZX  99.91%  \n",
       "2  XNCDcqisbg1BZX  99.91%  \n",
       "3  XBXAcqisbg2BZX  99.91%  \n",
       "4   XNCDcqisbg1BZX  99.9%  \n",
       "5   XBXAcqisbg2BZX  99.9%  \n",
       "6   XNCDcqisbg1BZX  99.9%  \n",
       "7  XBXAcqisbg2BZX  99.89%  "
      ]
     },
     "execution_count": 22,
     "metadata": {},
     "output_type": "execute_result"
    }
   ],
   "source": [
    "df"
   ]
  },
  {
   "cell_type": "code",
   "execution_count": 23,
   "id": "9b334cc3",
   "metadata": {},
   "outputs": [],
   "source": [
    "df2 = df.pivot(index=\"dateTime\", columns=\"NEname\", values=\"initRegRate\")"
   ]
  },
  {
   "cell_type": "code",
   "execution_count": 53,
   "id": "91d6b927",
   "metadata": {},
   "outputs": [
    {
     "data": {
      "image/png": "[encoded data removed]",
      "text/plain": [
       "<Figure size 432x288 with 1 Axes>"
      ]
     },
     "metadata": {
      "needs_background": "light"
     },
     "output_type": "display_data"
    }
   ],
   "source": [
    "as1 = df2.plot(ylim=(90, 101))"
   ]
  },
  {
   "cell_type": "code",
   "execution_count": null,
   "id": "466843a0",
   "metadata": {},
   "outputs": [],
   "source": []
  },
  {
   "cell_type": "code",
   "execution_count": 27,
   "id": "c4c8bbaf",
   "metadata": {},
   "outputs": [],
   "source": [
    "fig = as1.get_figure()"
   ]
  },
  {
   "cell_type": "code",
   "execution_count": 29,
   "id": "768d9dfd",
   "metadata": {},
   "outputs": [],
   "source": [
    "fig.savefig(\"1.png\")"
   ]
  },
  {
   "cell_type": "code",
   "execution_count": 64,
   "id": "811ff20c",
   "metadata": {},
   "outputs": [
    {
     "data": {
      "image/png": "[encoded data removed]",
      "text/plain": [
       "<Figure size 432x288 with 1 Axes>"
      ]
     },
     "metadata": {
      "needs_background": "light"
     },
     "output_type": "display_data"
    }
   ],
   "source": [
    "as2 = df2.plot(kind=\"bar\", fontsize=5, rot=0)"
   ]
  },
  {
   "cell_type": "code",
   "execution_count": 10,
   "id": "0d3029e2",
   "metadata": {},
   "outputs": [
    {
     "data": {
      "text/plain": [
       "0    20210717130000\n",
       "2    20210718130000\n",
       "4    20210719130000\n",
       "6    20210720130000\n",
       "Name: dateTime, dtype: object"
      ]
     },
     "execution_count": 10,
     "metadata": {},
     "output_type": "execute_result"
    }
   ],
   "source": [
    "new_index = df[\"dateTime\"].astype(str).drop_duplicates()\n",
    "new_index"
   ]
  },
  {
   "cell_type": "code",
   "execution_count": 11,
   "id": "cdd0cec6",
   "metadata": {},
   "outputs": [
    {
     "data": {
      "text/html": [
       "<div>\n",
       "<style scoped>\n",
       "    .dataframe tbody tr th:only-of-type {\n",
       "        vertical-align: middle;\n",
       "    }\n",
       "\n",
       "    .dataframe tbody tr th {\n",
       "        vertical-align: top;\n",
       "    }\n",
       "\n",
       "    .dataframe thead th {\n",
       "        text-align: right;\n",
       "    }\n",
       "</style>\n",
       "<table border=\"1\" class=\"dataframe\">\n",
       "  <thead>\n",
       "    <tr style=\"text-align: right;\">\n",
       "      <th></th>\n",
       "    </tr>\n",
       "    <tr>\n",
       "      <th>dateTime</th>\n",
       "    </tr>\n",
       "  </thead>\n",
       "  <tbody>\n",
       "    <tr>\n",
       "      <th>20210717130000</th>\n",
       "    </tr>\n",
       "    <tr>\n",
       "      <th>20210718130000</th>\n",
       "    </tr>\n",
       "    <tr>\n",
       "      <th>20210719130000</th>\n",
       "    </tr>\n",
       "    <tr>\n",
       "      <th>20210720130000</th>\n",
       "    </tr>\n",
       "  </tbody>\n",
       "</table>\n",
       "</div>"
      ],
      "text/plain": [
       "Empty DataFrame\n",
       "Columns: []\n",
       "Index: [20210717130000, 20210718130000, 20210719130000, 20210720130000]"
      ]
     },
     "execution_count": 11,
     "metadata": {},
     "output_type": "execute_result"
    }
   ],
   "source": [
    "df2 = pd.DataFrame(index=new_index)\n",
    "df2"
   ]
  },
  {
   "cell_type": "code",
   "execution_count": 14,
   "id": "9fbd86b1",
   "metadata": {},
   "outputs": [
    {
     "ename": "KeyError",
     "evalue": "('dateTime', 'initRegRate')",
     "output_type": "error",
     "traceback": [
      "\u001b[0;31m---------------------------------------------------------------------------\u001b[0m",
      "\u001b[0;31mKeyError\u001b[0m                                  Traceback (most recent call last)",
      "\u001b[0;32m/usr/local/lib/python3.9/site-packages/pandas/core/indexes/base.py\u001b[0m in \u001b[0;36mget_loc\u001b[0;34m(self, key, method, tolerance)\u001b[0m\n\u001b[1;32m   3360\u001b[0m             \u001b[0;32mtry\u001b[0m\u001b[0;34m:\u001b[0m\u001b[0;34m\u001b[0m\u001b[0;34m\u001b[0m\u001b[0m\n\u001b[0;32m-> 3361\u001b[0;31m                 \u001b[0;32mreturn\u001b[0m \u001b[0mself\u001b[0m\u001b[0;34m.\u001b[0m\u001b[0m_engine\u001b[0m\u001b[0;34m.\u001b[0m\u001b[0mget_loc\u001b[0m\u001b[0;34m(\u001b[0m\u001b[0mcasted_key\u001b[0m\u001b[0;34m)\u001b[0m\u001b[0;34m\u001b[0m\u001b[0;34m\u001b[0m\u001b[0m\n\u001b[0m\u001b[1;32m   3362\u001b[0m             \u001b[0;32mexcept\u001b[0m \u001b[0mKeyError\u001b[0m \u001b[0;32mas\u001b[0m \u001b[0merr\u001b[0m\u001b[0;34m:\u001b[0m\u001b[0;34m\u001b[0m\u001b[0;34m\u001b[0m\u001b[0m\n",
      "\u001b[0;32m/usr/local/lib/python3.9/site-packages/pandas/_libs/index.pyx\u001b[0m in \u001b[0;36mpandas._libs.index.IndexEngine.get_loc\u001b[0;34m()\u001b[0m\n",
      "\u001b[0;32m/usr/local/lib/python3.9/site-packages/pandas/_libs/index.pyx\u001b[0m in \u001b[0;36mpandas._libs.index.IndexEngine.get_loc\u001b[0;34m()\u001b[0m\n",
      "\u001b[0;32mpandas/_libs/hashtable_class_helper.pxi\u001b[0m in \u001b[0;36mpandas._libs.hashtable.PyObjectHashTable.get_item\u001b[0;34m()\u001b[0m\n",
      "\u001b[0;32mpandas/_libs/hashtable_class_helper.pxi\u001b[0m in \u001b[0;36mpandas._libs.hashtable.PyObjectHashTable.get_item\u001b[0;34m()\u001b[0m\n",
      "\u001b[0;31mKeyError\u001b[0m: ('dateTime', 'initRegRate')",
      "\nThe above exception was the direct cause of the following exception:\n",
      "\u001b[0;31mKeyError\u001b[0m                                  Traceback (most recent call last)",
      "\u001b[0;32m/var/folders/s0/6n7m1ws5287bh8bnp0gtxnf40000gn/T/ipykernel_63057/3818284432.py\u001b[0m in \u001b[0;36m<module>\u001b[0;34m\u001b[0m\n\u001b[1;32m      1\u001b[0m \u001b[0;32mfor\u001b[0m \u001b[0mk\u001b[0m\u001b[0;34m,\u001b[0m \u001b[0mv\u001b[0m \u001b[0;32min\u001b[0m \u001b[0mdf\u001b[0m\u001b[0;34m.\u001b[0m\u001b[0mgroupby\u001b[0m\u001b[0;34m(\u001b[0m\u001b[0;34m\"NEname\"\u001b[0m\u001b[0;34m)\u001b[0m\u001b[0;34m:\u001b[0m\u001b[0;34m\u001b[0m\u001b[0;34m\u001b[0m\u001b[0m\n\u001b[0;32m----> 2\u001b[0;31m     \u001b[0mdf3\u001b[0m \u001b[0;34m=\u001b[0m \u001b[0mv\u001b[0m\u001b[0;34m[\u001b[0m\u001b[0;34m\"dateTime\"\u001b[0m\u001b[0;34m,\u001b[0m \u001b[0;34m\"initRegRate\"\u001b[0m\u001b[0;34m]\u001b[0m\u001b[0;34m\u001b[0m\u001b[0;34m\u001b[0m\u001b[0m\n\u001b[0m\u001b[1;32m      3\u001b[0m     \u001b[0mdf3\u001b[0m\u001b[0;34m\u001b[0m\u001b[0;34m\u001b[0m\u001b[0m\n\u001b[1;32m      4\u001b[0m \u001b[0;31m#     df2 = pd.concat(df2, v)\u001b[0m\u001b[0;34m\u001b[0m\u001b[0;34m\u001b[0m\u001b[0;34m\u001b[0m\u001b[0m\n",
      "\u001b[0;32m/usr/local/lib/python3.9/site-packages/pandas/core/frame.py\u001b[0m in \u001b[0;36m__getitem__\u001b[0;34m(self, key)\u001b[0m\n\u001b[1;32m   3453\u001b[0m             \u001b[0;32mif\u001b[0m \u001b[0mself\u001b[0m\u001b[0;34m.\u001b[0m\u001b[0mcolumns\u001b[0m\u001b[0;34m.\u001b[0m\u001b[0mnlevels\u001b[0m \u001b[0;34m>\u001b[0m \u001b[0;36m1\u001b[0m\u001b[0;34m:\u001b[0m\u001b[0;34m\u001b[0m\u001b[0;34m\u001b[0m\u001b[0m\n\u001b[1;32m   3454\u001b[0m                 \u001b[0;32mreturn\u001b[0m \u001b[0mself\u001b[0m\u001b[0;34m.\u001b[0m\u001b[0m_getitem_multilevel\u001b[0m\u001b[0;34m(\u001b[0m\u001b[0mkey\u001b[0m\u001b[0;34m)\u001b[0m\u001b[0;34m\u001b[0m\u001b[0;34m\u001b[0m\u001b[0m\n\u001b[0;32m-> 3455\u001b[0;31m             \u001b[0mindexer\u001b[0m \u001b[0;34m=\u001b[0m \u001b[0mself\u001b[0m\u001b[0;34m.\u001b[0m\u001b[0mcolumns\u001b[0m\u001b[0;34m.\u001b[0m\u001b[0mget_loc\u001b[0m\u001b[0;34m(\u001b[0m\u001b[0mkey\u001b[0m\u001b[0;34m)\u001b[0m\u001b[0;34m\u001b[0m\u001b[0;34m\u001b[0m\u001b[0m\n\u001b[0m\u001b[1;32m   3456\u001b[0m             \u001b[0;32mif\u001b[0m \u001b[0mis_integer\u001b[0m\u001b[0;34m(\u001b[0m\u001b[0mindexer\u001b[0m\u001b[0;34m)\u001b[0m\u001b[0;34m:\u001b[0m\u001b[0;34m\u001b[0m\u001b[0;34m\u001b[0m\u001b[0m\n\u001b[1;32m   3457\u001b[0m                 \u001b[0mindexer\u001b[0m \u001b[0;34m=\u001b[0m \u001b[0;34m[\u001b[0m\u001b[0mindexer\u001b[0m\u001b[0;34m]\u001b[0m\u001b[0;34m\u001b[0m\u001b[0;34m\u001b[0m\u001b[0m\n",
      "\u001b[0;32m/usr/local/lib/python3.9/site-packages/pandas/core/indexes/base.py\u001b[0m in \u001b[0;36mget_loc\u001b[0;34m(self, key, method, tolerance)\u001b[0m\n\u001b[1;32m   3361\u001b[0m                 \u001b[0;32mreturn\u001b[0m \u001b[0mself\u001b[0m\u001b[0;34m.\u001b[0m\u001b[0m_engine\u001b[0m\u001b[0;34m.\u001b[0m\u001b[0mget_loc\u001b[0m\u001b[0;34m(\u001b[0m\u001b[0mcasted_key\u001b[0m\u001b[0;34m)\u001b[0m\u001b[0;34m\u001b[0m\u001b[0;34m\u001b[0m\u001b[0m\n\u001b[1;32m   3362\u001b[0m             \u001b[0;32mexcept\u001b[0m \u001b[0mKeyError\u001b[0m \u001b[0;32mas\u001b[0m \u001b[0merr\u001b[0m\u001b[0;34m:\u001b[0m\u001b[0;34m\u001b[0m\u001b[0;34m\u001b[0m\u001b[0m\n\u001b[0;32m-> 3363\u001b[0;31m                 \u001b[0;32mraise\u001b[0m \u001b[0mKeyError\u001b[0m\u001b[0;34m(\u001b[0m\u001b[0mkey\u001b[0m\u001b[0;34m)\u001b[0m \u001b[0;32mfrom\u001b[0m \u001b[0merr\u001b[0m\u001b[0;34m\u001b[0m\u001b[0;34m\u001b[0m\u001b[0m\n\u001b[0m\u001b[1;32m   3364\u001b[0m \u001b[0;34m\u001b[0m\u001b[0m\n\u001b[1;32m   3365\u001b[0m         \u001b[0;32mif\u001b[0m \u001b[0mis_scalar\u001b[0m\u001b[0;34m(\u001b[0m\u001b[0mkey\u001b[0m\u001b[0;34m)\u001b[0m \u001b[0;32mand\u001b[0m \u001b[0misna\u001b[0m\u001b[0;34m(\u001b[0m\u001b[0mkey\u001b[0m\u001b[0;34m)\u001b[0m \u001b[0;32mand\u001b[0m \u001b[0;32mnot\u001b[0m \u001b[0mself\u001b[0m\u001b[0;34m.\u001b[0m\u001b[0mhasnans\u001b[0m\u001b[0;34m:\u001b[0m\u001b[0;34m\u001b[0m\u001b[0;34m\u001b[0m\u001b[0m\n",
      "\u001b[0;31mKeyError\u001b[0m: ('dateTime', 'initRegRate')"
     ]
    }
   ],
   "source": [
    "for k, v in df.groupby(\"NEname\"):\n",
    "    df3 = v[\"dateTime\", \"initRegRate\"]\n",
    "    df3\n",
    "#     df2 = pd.concat(df2, v)"
   ]
  },
  {
   "cell_type": "code",
   "execution_count": null,
   "id": "54a110f8",
   "metadata": {},
   "outputs": [],
   "source": []
  }
 ],
 "metadata": {
  "kernelspec": {
   "display_name": "Python 3 (ipykernel)",
   "language": "python",
   "name": "python3"
  },
  "language_info": {
   "codemirror_mode": {
    "name": "ipython",
    "version": 3
   },
   "file_extension": ".py",
   "mimetype": "text/x-python",
   "name": "python",
   "nbconvert_exporter": "python",
   "pygments_lexer": "ipython3",
   "version": "3.9.5"
  }
 },
 "nbformat": 4,
 "nbformat_minor": 5
}
