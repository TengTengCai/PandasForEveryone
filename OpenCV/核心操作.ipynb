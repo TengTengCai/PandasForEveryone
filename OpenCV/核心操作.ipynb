{
 "cells": [
  {
   "cell_type": "markdown",
   "id": "accessible-brief",
   "metadata": {},
   "source": [
    "# 1. 图像的基本操作"
   ]
  },
  {
   "cell_type": "markdown",
   "id": "broad-membrane",
   "metadata": {},
   "source": [
    "## 1.1 获取并修改像素值\n"
   ]
  },
  {
   "cell_type": "code",
   "execution_count": 1,
   "id": "minute-trick",
   "metadata": {},
   "outputs": [],
   "source": [
    "import numpy as np\n",
    "import matplotlib.pyplot as plt\n",
    "\n",
    "import cv2\n"
   ]
  },
  {
   "cell_type": "code",
   "execution_count": 2,
   "id": "neutral-shepherd",
   "metadata": {},
   "outputs": [
    {
     "data": {
      "text/plain": [
       "array([119, 147, 111], dtype=uint8)"
      ]
     },
     "execution_count": 2,
     "metadata": {},
     "output_type": "execute_result"
    }
   ],
   "source": [
    "img = cv2.imread('./hycdn.jpeg')\n",
    "# plt.imshow(img)\n",
    "px = img[100, 100]\n",
    "px"
   ]
  },
  {
   "cell_type": "code",
   "execution_count": 3,
   "id": "oriental-heavy",
   "metadata": {},
   "outputs": [
    {
     "data": {
      "text/plain": [
       "119"
      ]
     },
     "execution_count": 3,
     "metadata": {},
     "output_type": "execute_result"
    }
   ],
   "source": [
    "blue = img[100, 100, 0]\n",
    "blue"
   ]
  },
  {
   "cell_type": "markdown",
   "id": "medieval-management",
   "metadata": {},
   "source": [
    "可以通过这种方式进行修改像素值"
   ]
  },
  {
   "cell_type": "code",
   "execution_count": 4,
   "id": "tamil-isolation",
   "metadata": {},
   "outputs": [],
   "source": [
    "img[100, 100] = [255, 255, 255]\n",
    "# plt.imshow(img)"
   ]
  },
  {
   "cell_type": "markdown",
   "id": "massive-soldier",
   "metadata": {},
   "source": [
    "获取和修改像素更好的方法"
   ]
  },
  {
   "cell_type": "code",
   "execution_count": 5,
   "id": "separate-captain",
   "metadata": {},
   "outputs": [
    {
     "data": {
      "text/plain": [
       "255"
      ]
     },
     "execution_count": 5,
     "metadata": {},
     "output_type": "execute_result"
    }
   ],
   "source": [
    "img.item(100, 100, 1)"
   ]
  },
  {
   "cell_type": "code",
   "execution_count": 6,
   "id": "timely-maldives",
   "metadata": {},
   "outputs": [
    {
     "data": {
      "text/plain": [
       "100"
      ]
     },
     "execution_count": 6,
     "metadata": {},
     "output_type": "execute_result"
    }
   ],
   "source": [
    "img.itemset((100, 100, 1), 100)\n",
    "img.item(100, 100, 1)"
   ]
  },
  {
   "cell_type": "markdown",
   "id": "chemical-integer",
   "metadata": {},
   "source": [
    "## 1.2 获取图像属性"
   ]
  },
  {
   "cell_type": "code",
   "execution_count": 7,
   "id": "framed-bermuda",
   "metadata": {},
   "outputs": [
    {
     "data": {
      "text/plain": [
       "(390, 680, 3)"
      ]
     },
     "execution_count": 7,
     "metadata": {},
     "output_type": "execute_result"
    }
   ],
   "source": [
    "img.shape  # np数组的形状，390 * 680 * 3 的数组"
   ]
  },
  {
   "cell_type": "code",
   "execution_count": 8,
   "id": "dated-anatomy",
   "metadata": {},
   "outputs": [
    {
     "data": {
      "text/plain": [
       "795600"
      ]
     },
     "execution_count": 8,
     "metadata": {},
     "output_type": "execute_result"
    }
   ],
   "source": [
    "img.size  # np数组的数组大小"
   ]
  },
  {
   "cell_type": "code",
   "execution_count": 9,
   "id": "massive-mongolia",
   "metadata": {},
   "outputs": [
    {
     "data": {
      "text/plain": [
       "dtype('uint8')"
      ]
     },
     "execution_count": 9,
     "metadata": {},
     "output_type": "execute_result"
    }
   ],
   "source": [
    "img.dtype  # np数组的数据类型"
   ]
  },
  {
   "cell_type": "markdown",
   "id": "greatest-hardwood",
   "metadata": {},
   "source": [
    "## 1.3 图像ROI"
   ]
  },
  {
   "cell_type": "code",
   "execution_count": 10,
   "id": "pleasant-danish",
   "metadata": {},
   "outputs": [],
   "source": [
    "# plt.imshow(img)\n",
    "jigsaw = img[50: 145, 480: 575]\n",
    "jigsaw\n",
    "# plt.imshow(jigsaw)\n",
    "img[150:245, 380:475] = jigsaw\n",
    "# plt.imshow(img)"
   ]
  },
  {
   "cell_type": "markdown",
   "id": "metropolitan-williams",
   "metadata": {},
   "source": [
    "## 1.4 拆分及合并图像通道"
   ]
  },
  {
   "cell_type": "code",
   "execution_count": 11,
   "id": "colored-lunch",
   "metadata": {},
   "outputs": [
    {
     "data": {
      "text/plain": [
       "(array([[  0,  13, 171, ..., 213,   0,   0],\n",
       "        [  1,   5, 130, ..., 179,   0,  12],\n",
       "        [174, 137, 191, ..., 246, 157, 209],\n",
       "        ...,\n",
       "        [ 87,  80, 124, ..., 145,  90,  99],\n",
       "        [  3,   7,  92, ..., 129,   0,   0],\n",
       "        [  0,   0,  94, ..., 140,   0,   0]], dtype=uint8),\n",
       " array([[  8,  29, 191, ..., 229,   7,   7],\n",
       "        [ 14,  21, 150, ..., 195,  12,  28],\n",
       "        [187, 153, 213, ..., 255, 173, 225],\n",
       "        ...,\n",
       "        [115, 108, 155, ..., 204, 148, 156],\n",
       "        [ 31,  35, 123, ..., 185,  47,  40],\n",
       "        [ 12,  12, 125, ..., 195,  18,  17]], dtype=uint8),\n",
       " array([[  0,   6, 168, ..., 211,   0,   0],\n",
       "        [  0,   0, 127, ..., 177,   0,  10],\n",
       "        [165, 130, 189, ..., 244, 155, 207],\n",
       "        ...,\n",
       "        [ 85,  78, 124, ..., 153, 100, 111],\n",
       "        [  1,   5,  92, ..., 136,   4,   0],\n",
       "        [  0,   0,  94, ..., 146,   0,   0]], dtype=uint8))"
      ]
     },
     "execution_count": 11,
     "metadata": {},
     "output_type": "execute_result"
    }
   ],
   "source": [
    "b, g, r = cv2.split(img)\n",
    "b, g, r"
   ]
  },
  {
   "cell_type": "code",
   "execution_count": 12,
   "id": "broadband-float",
   "metadata": {},
   "outputs": [],
   "source": [
    "img2 = cv2.merge((b, g, r))\n",
    "# plt.imshow(img2)"
   ]
  },
  {
   "cell_type": "code",
   "execution_count": 13,
   "id": "filled-firewall",
   "metadata": {},
   "outputs": [],
   "source": [
    "img2[:,:,0] = 0\n",
    "# plt.imshow(img2)"
   ]
  },
  {
   "cell_type": "markdown",
   "id": "handy-consumption",
   "metadata": {},
   "source": [
    "## 1.5 为图像扩边（填充）"
   ]
  },
  {
   "cell_type": "code",
   "execution_count": 20,
   "id": "asian-assurance",
   "metadata": {},
   "outputs": [],
   "source": [
    "img3 = cv2.copyMakeBorder(img2, 10,10,10,10, cv2.BORDER_CONSTANT, value=(255,0,0))\n",
    "# plt.imshow(img3)"
   ]
  },
  {
   "cell_type": "markdown",
   "id": "painful-burner",
   "metadata": {},
   "source": [
    "# 2. 图像上的算术运算"
   ]
  },
  {
   "cell_type": "markdown",
   "id": "serious-danger",
   "metadata": {},
   "source": [
    "## 2.1 图像加法"
   ]
  },
  {
   "cell_type": "code",
   "execution_count": 24,
   "id": "falling-phenomenon",
   "metadata": {},
   "outputs": [
    {
     "data": {
      "text/plain": [
       "(array([250], dtype=uint8), array([10], dtype=uint8))"
      ]
     },
     "execution_count": 24,
     "metadata": {},
     "output_type": "execute_result"
    }
   ],
   "source": [
    "x = np.uint8([250])\n",
    "y = np.uint8([10])\n",
    "x, y"
   ]
  },
  {
   "cell_type": "code",
   "execution_count": 25,
   "id": "sound-packaging",
   "metadata": {},
   "outputs": [
    {
     "data": {
      "text/plain": [
       "array([[255]], dtype=uint8)"
      ]
     },
     "execution_count": 25,
     "metadata": {},
     "output_type": "execute_result"
    }
   ],
   "source": [
    "cv2.add(x, y)"
   ]
  },
  {
   "cell_type": "code",
   "execution_count": 26,
   "id": "capital-interstate",
   "metadata": {},
   "outputs": [
    {
     "data": {
      "text/plain": [
       "array([4], dtype=uint8)"
      ]
     },
     "execution_count": 26,
     "metadata": {},
     "output_type": "execute_result"
    }
   ],
   "source": [
    "x + y"
   ]
  },
  {
   "cell_type": "markdown",
   "id": "synthetic-denver",
   "metadata": {},
   "source": [
    "## 2.2 图像混合"
   ]
  },
  {
   "cell_type": "code",
   "execution_count": 86,
   "id": "twelve-tracker",
   "metadata": {},
   "outputs": [],
   "source": [
    "img1 = cv2.imread('WX001.png')\n",
    "img2 = cv2.imread('WX002.png')\n",
    "img3 = cv2.cvtColor(img1, cv2.COLOR_RGB2BGR)\n",
    "img4 = cv2.cvtColor(img2, cv2.COLOR_RGB2BGR)\n",
    "# plt.imshow(img4)"
   ]
  },
  {
   "cell_type": "code",
   "execution_count": 43,
   "id": "spectacular-witch",
   "metadata": {},
   "outputs": [
    {
     "data": {
      "text/plain": [
       "120000"
      ]
     },
     "execution_count": 43,
     "metadata": {},
     "output_type": "execute_result"
    }
   ],
   "source": [
    "img1.size"
   ]
  },
  {
   "cell_type": "code",
   "execution_count": 44,
   "id": "turned-purchase",
   "metadata": {},
   "outputs": [
    {
     "data": {
      "text/plain": [
       "120000"
      ]
     },
     "execution_count": 44,
     "metadata": {},
     "output_type": "execute_result"
    }
   ],
   "source": [
    "img2.size"
   ]
  },
  {
   "cell_type": "code",
   "execution_count": 88,
   "id": "federal-addiction",
   "metadata": {},
   "outputs": [],
   "source": [
    "dst = cv2.addWeighted(img3, 0.3, img4, 0.7, 0)\n",
    "# plt.imshow(dst)"
   ]
  },
  {
   "cell_type": "markdown",
   "id": "handled-candy",
   "metadata": {},
   "source": [
    "## 2.3 按位运算"
   ]
  },
  {
   "cell_type": "code",
   "execution_count": null,
   "id": "combined-finding",
   "metadata": {},
   "outputs": [],
   "source": []
  },
  {
   "cell_type": "markdown",
   "id": "destroyed-raleigh",
   "metadata": {},
   "source": [
    "# 3. 程序性能检测及优化"
   ]
  },
  {
   "cell_type": "markdown",
   "id": "divided-carroll",
   "metadata": {},
   "source": [
    "## 3.1 使用 OpenCV 检测程序效率"
   ]
  },
  {
   "cell_type": "code",
   "execution_count": 67,
   "id": "legal-disabled",
   "metadata": {},
   "outputs": [
    {
     "data": {
      "text/plain": [
       "0.000111373"
      ]
     },
     "execution_count": 67,
     "metadata": {},
     "output_type": "execute_result"
    }
   ],
   "source": [
    "e1 = cv2.getTickCount()\n",
    "e2 = cv2.getTickCount()\n",
    "time = (e2 - e1)/ cv2.getTickFrequency()\n",
    "time"
   ]
  },
  {
   "cell_type": "markdown",
   "id": "sporting-initial",
   "metadata": {},
   "source": [
    "中值滤波效率检测"
   ]
  },
  {
   "cell_type": "code",
   "execution_count": 70,
   "id": "brutal-tamil",
   "metadata": {},
   "outputs": [
    {
     "data": {
      "text/plain": [
       "0.582134366"
      ]
     },
     "execution_count": 70,
     "metadata": {},
     "output_type": "execute_result"
    }
   ],
   "source": [
    "img1 = cv2.imread('hycdn.jpeg')\n",
    "e1 = cv2.getTickCount()\n",
    "for i in range(5,49,2):\n",
    "    img1 = cv2.medianBlur(img1,i)\n",
    "e2 = cv2.getTickCount()\n",
    "t = (e2 - e1)/cv2.getTickFrequency()\n",
    "t"
   ]
  },
  {
   "cell_type": "markdown",
   "id": "crazy-somerset",
   "metadata": {},
   "source": [
    "## 3.2 OpenCV中的默认优化"
   ]
  },
  {
   "cell_type": "code",
   "execution_count": 71,
   "id": "early-princess",
   "metadata": {},
   "outputs": [
    {
     "data": {
      "text/plain": [
       "True"
      ]
     },
     "execution_count": 71,
     "metadata": {},
     "output_type": "execute_result"
    }
   ],
   "source": [
    "cv2.useOptimized()"
   ]
  },
  {
   "cell_type": "code",
   "execution_count": 79,
   "id": "still-transportation",
   "metadata": {},
   "outputs": [
    {
     "name": "stdout",
     "output_type": "stream",
     "text": [
      "29.1 ms ± 3.11 ms per loop (mean ± std. dev. of 7 runs, 10 loops each)\n"
     ]
    }
   ],
   "source": [
    "%timeit res = cv2.medianBlur(img,49)"
   ]
  },
  {
   "cell_type": "code",
   "execution_count": 73,
   "id": "ranging-knife",
   "metadata": {},
   "outputs": [
    {
     "data": {
      "text/plain": [
       "False"
      ]
     },
     "execution_count": 73,
     "metadata": {},
     "output_type": "execute_result"
    }
   ],
   "source": [
    "cv2.setUseOptimized(False)\n",
    "cv2.useOptimized()"
   ]
  },
  {
   "cell_type": "code",
   "execution_count": 78,
   "id": "greenhouse-password",
   "metadata": {},
   "outputs": [
    {
     "name": "stdout",
     "output_type": "stream",
     "text": [
      "26.4 ms ± 533 µs per loop (mean ± std. dev. of 7 runs, 10 loops each)\n"
     ]
    }
   ],
   "source": [
    "%timeit res = cv2.medianBlur(img,49)"
   ]
  },
  {
   "cell_type": "code",
   "execution_count": 80,
   "id": "disciplinary-lying",
   "metadata": {},
   "outputs": [],
   "source": [
    "cv2.setUseOptimized(True)"
   ]
  },
  {
   "cell_type": "code",
   "execution_count": null,
   "id": "coupled-cancellation",
   "metadata": {},
   "outputs": [],
   "source": []
  }
 ],
 "metadata": {
  "kernelspec": {
   "display_name": "Python 3",
   "language": "python",
   "name": "python3"
  },
  "language_info": {
   "codemirror_mode": {
    "name": "ipython",
    "version": 3
   },
   "file_extension": ".py",
   "mimetype": "text/x-python",
   "name": "python",
   "nbconvert_exporter": "python",
   "pygments_lexer": "ipython3",
   "version": "3.9.1"
  }
 },
 "nbformat": 4,
 "nbformat_minor": 5
}
